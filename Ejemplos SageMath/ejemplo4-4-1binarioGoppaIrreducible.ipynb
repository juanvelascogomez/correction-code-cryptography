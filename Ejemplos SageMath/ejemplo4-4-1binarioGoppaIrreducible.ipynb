{
 "cells": [
  {
   "cell_type": "markdown",
   "metadata": {
    "collapsed": false
   },
   "source": [
    "# Códigos correctores de errores y criptografía\n",
    "---"
   ]
  },
  {
   "cell_type": "code",
   "execution_count": 1,
   "metadata": {
    "collapsed": false
   },
   "outputs": [
   ],
   "source": [
    "# Para evitar los warnings de python\n",
    "import warnings\n",
    "warnings.filterwarnings('ignore')\n",
    "%reload_ext sage"
   ]
  },
  {
   "cell_type": "markdown",
   "metadata": {
    "collapsed": false
   },
   "source": [
    "---\n",
    "## Creación del polinomio Goppa\n",
    "---"
   ]
  },
  {
   "cell_type": "code",
   "execution_count": 2,
   "metadata": {
    "collapsed": false
   },
   "outputs": [
   ],
   "source": [
    "# Definimos el cuerpo donde vamos a trabajar\n",
    "m = 4\n",
    "K = GF(2)\n",
    "F.<a> = GF(2^m)"
   ]
  },
  {
   "cell_type": "code",
   "execution_count": 3,
   "metadata": {
    "collapsed": false
   },
   "outputs": [
   ],
   "source": [
    "# Creamos el anillo de polinomios\n",
    "PR = PolynomialRing(F,'X') \n",
    "X = PR.gen()\n",
    "N = 15\n",
    "L = [a^i for i in range(N)]\n",
    "g = X^3 + X + 1"
   ]
  },
  {
   "cell_type": "code",
   "execution_count": 4,
   "metadata": {
    "collapsed": false
   },
   "outputs": [
    {
     "name": "stdout",
     "output_type": "stream",
     "text": [
      "Polinomio de Goppa \n",
      "\n",
      "\t g(x)= X^3 + X + 1\n"
     ]
    }
   ],
   "source": [
    "# Imprimimos el polinomio que hemos creado\n",
    "print (\"Polinomio de Goppa \\n\\n\\t g(x)= \" + str(g))"
   ]
  },
  {
   "cell_type": "markdown",
   "metadata": {
    "collapsed": false
   },
   "source": [
    "---\n",
    "## Creación de la matriz generatriz H\n",
    "---"
   ]
  },
  {
   "cell_type": "code",
   "execution_count": 5,
   "metadata": {
    "collapsed": false
   },
   "outputs": [
   ],
   "source": [
    "# Declaración de variables\n",
    "rango = 3"
   ]
  },
  {
   "cell_type": "markdown",
   "metadata": {
    "collapsed": false
   },
   "source": [
    "**Comenzamos creando la matriz T**"
   ]
  },
  {
   "cell_type": "code",
   "execution_count": 6,
   "metadata": {
    "collapsed": false
   },
   "outputs": [
   ],
   "source": [
    "T = matrix(F,rango,rango)\n",
    "for i in range(rango):\n",
    "    count = rango - i + 1 - 1\n",
    "    for j in range(rango):\n",
    "        if i > j:\n",
    "            T[i,j]=g.list()[count]\n",
    "            count = count + 1\n",
    "        if i < j:\n",
    "            T[i,j] = 0\n",
    "        if i == j:\n",
    "            T[i,j] = 1"
   ]
  },
  {
   "cell_type": "code",
   "execution_count": 7,
   "metadata": {
    "collapsed": false
   },
   "outputs": [
    {
     "name": "stdout",
     "output_type": "stream",
     "text": [
      "Matriz T: \n"
     ]
    },
    {
     "data": {
      "text/html": [
       "<html><script type=\"math/tex; mode=display\">\\newcommand{\\Bold}[1]{\\mathbf{#1}}\\left(\\begin{array}{rrr}\n",
       "1 & 0 & 0 \\\\\n",
       "0 & 1 & 0 \\\\\n",
       "1 & 0 & 1\n",
       "\\end{array}\\right)</script></html>"
      ]
     },
     "execution_count": 7,
     "metadata": {
     },
     "output_type": "execute_result"
    }
   ],
   "source": [
    "print (\"Matriz T: \")\n",
    "show(T)"
   ]
  },
  {
   "cell_type": "markdown",
   "metadata": {
    "collapsed": false
   },
   "source": [
    "**Definimos ahora nuestras matriz Y y Z**"
   ]
  },
  {
   "cell_type": "code",
   "execution_count": 9,
   "metadata": {
    "collapsed": false
   },
   "outputs": [
    {
     "data": {
      "text/html": [
       "<html><script type=\"math/tex; mode=display\">\\newcommand{\\Bold}[1]{\\mathbf{#1}}\\left(\\begin{array}{rrrrrrrrrrrrrrr}\n",
       "1 & 1 & 1 & 1 & 1 & 1 & 1 & 1 & 1 & 1 & 1 & 1 & 1 & 1 & 1 \\\\\n",
       "1 & a & a^{2} & a^{3} & a + 1 & a^{2} + a & a^{3} + a^{2} & a^{3} + a + 1 & a^{2} + 1 & a^{3} + a & a^{2} + a + 1 & a^{3} + a^{2} + a & a^{3} + a^{2} + a + 1 & a^{3} + a^{2} + 1 & a^{3} + 1 \\\\\n",
       "1 & a^{2} & a + 1 & a^{3} + a^{2} & a^{2} + 1 & a^{2} + a + 1 & a^{3} + a^{2} + a + 1 & a^{3} + 1 & a & a^{3} & a^{2} + a & a^{3} + a + 1 & a^{3} + a & a^{3} + a^{2} + a & a^{3} + a^{2} + 1\n",
       "\\end{array}\\right)</script></html>"
      ]
     },
     "execution_count": 9,
     "metadata": {
     },
     "output_type": "execute_result"
    }
   ],
   "source": [
    "Y = matrix([[L[j]^i for j in range(N)] for i in range(rango)]) # La matriz Y es de tamaño (rango x n : rango=3 filas y n columnas)\n",
    "show(Y)"
   ]
  },
  {
   "cell_type": "code",
   "execution_count": 10,
   "metadata": {
    "collapsed": false
   },
   "outputs": [
    {
     "data": {
      "text/html": [
       "<html><script type=\"math/tex; mode=display\">\\newcommand{\\Bold}[1]{\\mathbf{#1}}\\left(\\begin{array}{rrrrrrrrrrrrrrr}\n",
       "1 & 0 & 0 & 0 & 0 & 0 & 0 & 0 & 0 & 0 & 0 & 0 & 0 & 0 & 0 \\\\\n",
       "0 & a^{2} + 1 & 0 & 0 & 0 & 0 & 0 & 0 & 0 & 0 & 0 & 0 & 0 & 0 & 0 \\\\\n",
       "0 & 0 & a & 0 & 0 & 0 & 0 & 0 & 0 & 0 & 0 & 0 & 0 & 0 & 0 \\\\\n",
       "0 & 0 & 0 & a^{3} + a^{2} + a & 0 & 0 & 0 & 0 & 0 & 0 & 0 & 0 & 0 & 0 & 0 \\\\\n",
       "0 & 0 & 0 & 0 & a^{2} & 0 & 0 & 0 & 0 & 0 & 0 & 0 & 0 & 0 & 0 \\\\\n",
       "0 & 0 & 0 & 0 & 0 & a^{2} + a + 1 & 0 & 0 & 0 & 0 & 0 & 0 & 0 & 0 & 0 \\\\\n",
       "0 & 0 & 0 & 0 & 0 & 0 & a^{3} + a + 1 & 0 & 0 & 0 & 0 & 0 & 0 & 0 & 0 \\\\\n",
       "0 & 0 & 0 & 0 & 0 & 0 & 0 & a^{2} + a + 1 & 0 & 0 & 0 & 0 & 0 & 0 & 0 \\\\\n",
       "0 & 0 & 0 & 0 & 0 & 0 & 0 & 0 & a + 1 & 0 & 0 & 0 & 0 & 0 & 0 \\\\\n",
       "0 & 0 & 0 & 0 & 0 & 0 & 0 & 0 & 0 & a^{3} + a^{2} + 1 & 0 & 0 & 0 & 0 & 0 \\\\\n",
       "0 & 0 & 0 & 0 & 0 & 0 & 0 & 0 & 0 & 0 & a^{2} + a & 0 & 0 & 0 & 0 \\\\\n",
       "0 & 0 & 0 & 0 & 0 & 0 & 0 & 0 & 0 & 0 & 0 & a^{2} + a & 0 & 0 & 0 \\\\\n",
       "0 & 0 & 0 & 0 & 0 & 0 & 0 & 0 & 0 & 0 & 0 & 0 & a^{3} + 1 & 0 & 0 \\\\\n",
       "0 & 0 & 0 & 0 & 0 & 0 & 0 & 0 & 0 & 0 & 0 & 0 & 0 & a^{2} + a + 1 & 0 \\\\\n",
       "0 & 0 & 0 & 0 & 0 & 0 & 0 & 0 & 0 & 0 & 0 & 0 & 0 & 0 & a^{2} + a\n",
       "\\end{array}\\right)</script></html>"
      ]
     },
     "execution_count": 10,
     "metadata": {
     },
     "output_type": "execute_result"
    }
   ],
   "source": [
    "Z = diagonal_matrix([1/g(L[i]) for i in range(N)]) # La matriz Z sabemos es diagonal y de tamaño n x n.\n",
    "show(Z)"
   ]
  },
  {
   "cell_type": "markdown",
   "metadata": {
    "collapsed": false
   },
   "source": [
    "**Calculamos ahora la matriz H generadora del código**"
   ]
  },
  {
   "cell_type": "code",
   "execution_count": 11,
   "metadata": {
    "collapsed": false
   },
   "outputs": [
    {
     "data": {
      "text/html": [
       "<html><script type=\"math/tex; mode=display\">\\newcommand{\\Bold}[1]{\\mathbf{#1}}\\left(\\begin{array}{rrrrrrrrrrrrrrr}\n",
       "1 & a^{2} + 1 & a & a^{3} + a^{2} + a & a^{2} & a^{2} + a + 1 & a^{3} + a + 1 & a^{2} + a + 1 & a + 1 & a^{3} + a^{2} + 1 & a^{2} + a & a^{2} + a & a^{3} + 1 & a^{2} + a + 1 & a^{2} + a \\\\\n",
       "1 & a^{3} + a & a^{3} & a^{3} + 1 & a^{3} + a^{2} & 1 & a^{3} + a^{2} + 1 & a^{2} & a^{3} + a^{2} + a + 1 & a^{3} + a + 1 & 1 & a & a^{3} + a^{2} + a & a^{2} + 1 & a + 1 \\\\\n",
       "0 & a & a^{2} & a^{3} + a & a + 1 & 1 & a^{3} & a^{3} + a^{2} + 1 & a^{2} + 1 & a^{3} + a^{2} + a + 1 & 1 & a^{3} + 1 & a^{3} + a^{2} & a^{3} + a + 1 & a^{3} + a^{2} + a\n",
       "\\end{array}\\right)</script></html>"
      ]
     },
     "execution_count": 11,
     "metadata": {
     },
     "output_type": "execute_result"
    }
   ],
   "source": [
    "H = T*Y*Z\n",
    "show(H)"
   ]
  },
  {
   "cell_type": "code",
   "execution_count": 0,
   "metadata": {
    "collapsed": false
   },
   "outputs": [
   ],
   "source": [
   ]
  }
 ],
 "metadata": {
  "kernelspec": {
   "display_name": "SageMath 7.6",
   "name": "sage-7.6"
  },
  "language_info": {
   "codemirror_mode": {
    "name": "ipython",
    "version": 2
   },
   "file_extension": ".py",
   "mimetype": "text/x-python",
   "name": "python",
   "nbconvert_exporter": "python",
   "pygments_lexer": "ipython2",
   "version": "2.7.13"
  }
 },
 "nbformat": 4,
 "nbformat_minor": 0
}