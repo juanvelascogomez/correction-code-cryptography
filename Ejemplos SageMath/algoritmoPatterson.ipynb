{
 "cells": [
  {
   "cell_type": "markdown",
   "metadata": {
    "collapsed": false
   },
   "source": [
    "# Algoritmo de Patterson\n",
    "---"
   ]
  },
  {
   "cell_type": "code",
   "execution_count": 1,
   "metadata": {
    "collapsed": false
   },
   "outputs": [
   ],
   "source": [
    "# Para evitar los warnings de python\n",
    "import warnings\n",
    "warnings.filterwarnings('ignore')\n",
    "%reload_ext sage"
   ]
  },
  {
   "cell_type": "markdown",
   "metadata": {
    "collapsed": false
   },
   "source": [
    "---\n",
    "## Creación del polinomio Goppa\n",
    "---"
   ]
  },
  {
   "cell_type": "code",
   "execution_count": 2,
   "metadata": {
    "collapsed": false
   },
   "outputs": [
   ],
   "source": [
    "# Definimos el cuerpo donde vamos a trabajar\n",
    "m = 4\n",
    "K = GF(2)\n",
    "F.<a> = GF(2^m)"
   ]
  },
  {
   "cell_type": "code",
   "execution_count": 3,
   "metadata": {
    "collapsed": false
   },
   "outputs": [
    {
     "name": "stdout",
     "output_type": "stream",
     "text": [
      "[1, a, a^2, a^3, a + 1, a^2 + a, a^3 + a^2, a^3 + a + 1, a^2 + 1, a^3 + a, a^2 + a + 1, a^3 + a^2 + a, a^3 + a^2 + a + 1, a^3 + a^2 + 1, a^3 + 1]\n"
     ]
    }
   ],
   "source": [
    "# Creamos el anillo de polinomios\n",
    "PR = PolynomialRing(F,'X') \n",
    "X = PR.gen()\n",
    "N = 15\n",
    "L = [a^i for i in range(N)]\n",
    "print(L)\n",
    "g = X^3 + X + 1\n",
    "y = X^2+1"
   ]
  },
  {
   "cell_type": "code",
   "execution_count": 4,
   "metadata": {
    "collapsed": false
   },
   "outputs": [
    {
     "name": "stdout",
     "output_type": "stream",
     "text": [
      "Polinomio de Goppa \n",
      "\n",
      "\t g(x)= X^3 + X + 1\n"
     ]
    }
   ],
   "source": [
    "# Imprimimos el polinomio que hemos creado\n",
    "print (\"Polinomio de Goppa \\n\\n\\t g(x)= \" + str(g))"
   ]
  },
  {
   "cell_type": "markdown",
   "metadata": {
    "collapsed": false
   },
   "source": [
    "---\n",
    "## Creación de la matriz generatriz H\n",
    "---"
   ]
  },
  {
   "cell_type": "code",
   "execution_count": 5,
   "metadata": {
    "collapsed": false
   },
   "outputs": [
   ],
   "source": [
    "# Declaración de variables\n",
    "rango = 3"
   ]
  },
  {
   "cell_type": "markdown",
   "metadata": {
    "collapsed": false
   },
   "source": [
    "**Comenzamos creando la matriz X**"
   ]
  },
  {
   "cell_type": "code",
   "execution_count": 6,
   "metadata": {
    "collapsed": false
   },
   "outputs": [
   ],
   "source": [
    "T = matrix(F,rango,rango)\n",
    "for i in range(rango):\n",
    "    count = rango - i\n",
    "    for j in range(rango):\n",
    "        if i > j:\n",
    "            T[i,j]=g.list()[count]\n",
    "            count = count + 1\n",
    "        if i < j:\n",
    "            T[i,j] = 0\n",
    "        if i == j:\n",
    "            T[i,j] = 1"
   ]
  },
  {
   "cell_type": "code",
   "execution_count": 7,
   "metadata": {
    "collapsed": false
   },
   "outputs": [
    {
     "name": "stdout",
     "output_type": "stream",
     "text": [
      "Matriz T: \n"
     ]
    },
    {
     "data": {
      "text/html": [
       "<html><script type=\"math/tex; mode=display\">\\newcommand{\\Bold}[1]{\\mathbf{#1}}\\left(\\begin{array}{rrr}\n",
       "1 & 0 & 0 \\\\\n",
       "0 & 1 & 0 \\\\\n",
       "1 & 0 & 1\n",
       "\\end{array}\\right)</script></html>"
      ]
     },
     "execution_count": 7,
     "metadata": {
     },
     "output_type": "execute_result"
    }
   ],
   "source": [
    "print (\"Matriz T: \")\n",
    "show(T)"
   ]
  },
  {
   "cell_type": "markdown",
   "metadata": {
    "collapsed": false
   },
   "source": [
    "**Definimos ahora nuestras matriz Y y Z**"
   ]
  },
  {
   "cell_type": "code",
   "execution_count": 8,
   "metadata": {
    "collapsed": false
   },
   "outputs": [
    {
     "data": {
      "text/html": [
       "<html><script type=\"math/tex; mode=display\">\\newcommand{\\Bold}[1]{\\mathbf{#1}}\\left(\\begin{array}{rrrrrrrrrrrrrrr}\n",
       "1 & 1 & 1 & 1 & 1 & 1 & 1 & 1 & 1 & 1 & 1 & 1 & 1 & 1 & 1 \\\\\n",
       "1 & a & a^{2} & a^{3} & a + 1 & a^{2} + a & a^{3} + a^{2} & a^{3} + a + 1 & a^{2} + 1 & a^{3} + a & a^{2} + a + 1 & a^{3} + a^{2} + a & a^{3} + a^{2} + a + 1 & a^{3} + a^{2} + 1 & a^{3} + 1 \\\\\n",
       "1 & a^{2} & a + 1 & a^{3} + a^{2} & a^{2} + 1 & a^{2} + a + 1 & a^{3} + a^{2} + a + 1 & a^{3} + 1 & a & a^{3} & a^{2} + a & a^{3} + a + 1 & a^{3} + a & a^{3} + a^{2} + a & a^{3} + a^{2} + 1\n",
       "\\end{array}\\right)</script></html>"
      ]
     },
     "execution_count": 8,
     "metadata": {
     },
     "output_type": "execute_result"
    }
   ],
   "source": [
    "Y = matrix(F,rango,N)\n",
    "for i in range(rango):\n",
    "    for j in range(N):\n",
    "        Y[i,j]=L[j]^i\n",
    "show(Y)"
   ]
  },
  {
   "cell_type": "code",
   "execution_count": 9,
   "metadata": {
    "collapsed": false
   },
   "outputs": [
    {
     "data": {
      "text/html": [
       "<html><script type=\"math/tex; mode=display\">\\newcommand{\\Bold}[1]{\\mathbf{#1}}\\left(\\begin{array}{rrrrrrrrrrrrrrr}\n",
       "1 & 0 & 0 & 0 & 0 & 0 & 0 & 0 & 0 & 0 & 0 & 0 & 0 & 0 & 0 \\\\\n",
       "0 & a^{2} + 1 & 0 & 0 & 0 & 0 & 0 & 0 & 0 & 0 & 0 & 0 & 0 & 0 & 0 \\\\\n",
       "0 & 0 & a & 0 & 0 & 0 & 0 & 0 & 0 & 0 & 0 & 0 & 0 & 0 & 0 \\\\\n",
       "0 & 0 & 0 & a^{3} + a^{2} + a & 0 & 0 & 0 & 0 & 0 & 0 & 0 & 0 & 0 & 0 & 0 \\\\\n",
       "0 & 0 & 0 & 0 & a^{2} & 0 & 0 & 0 & 0 & 0 & 0 & 0 & 0 & 0 & 0 \\\\\n",
       "0 & 0 & 0 & 0 & 0 & a^{2} + a + 1 & 0 & 0 & 0 & 0 & 0 & 0 & 0 & 0 & 0 \\\\\n",
       "0 & 0 & 0 & 0 & 0 & 0 & a^{3} + a + 1 & 0 & 0 & 0 & 0 & 0 & 0 & 0 & 0 \\\\\n",
       "0 & 0 & 0 & 0 & 0 & 0 & 0 & a^{2} + a + 1 & 0 & 0 & 0 & 0 & 0 & 0 & 0 \\\\\n",
       "0 & 0 & 0 & 0 & 0 & 0 & 0 & 0 & a + 1 & 0 & 0 & 0 & 0 & 0 & 0 \\\\\n",
       "0 & 0 & 0 & 0 & 0 & 0 & 0 & 0 & 0 & a^{3} + a^{2} + 1 & 0 & 0 & 0 & 0 & 0 \\\\\n",
       "0 & 0 & 0 & 0 & 0 & 0 & 0 & 0 & 0 & 0 & a^{2} + a & 0 & 0 & 0 & 0 \\\\\n",
       "0 & 0 & 0 & 0 & 0 & 0 & 0 & 0 & 0 & 0 & 0 & a^{2} + a & 0 & 0 & 0 \\\\\n",
       "0 & 0 & 0 & 0 & 0 & 0 & 0 & 0 & 0 & 0 & 0 & 0 & a^{3} + 1 & 0 & 0 \\\\\n",
       "0 & 0 & 0 & 0 & 0 & 0 & 0 & 0 & 0 & 0 & 0 & 0 & 0 & a^{2} + a + 1 & 0 \\\\\n",
       "0 & 0 & 0 & 0 & 0 & 0 & 0 & 0 & 0 & 0 & 0 & 0 & 0 & 0 & a^{2} + a\n",
       "\\end{array}\\right)</script></html>"
      ]
     },
     "execution_count": 9,
     "metadata": {
     },
     "output_type": "execute_result"
    }
   ],
   "source": [
    "Z = diagonal_matrix([1/g(L[i]) for i in range(N)]) # La matriz Z sabemos es diagonal y de tamaño n x n.\n",
    "show(Z)"
   ]
  },
  {
   "cell_type": "markdown",
   "metadata": {
    "collapsed": false
   },
   "source": [
    "**Calculamos ahora la matriz H generadora del código**"
   ]
  },
  {
   "cell_type": "code",
   "execution_count": 10,
   "metadata": {
    "collapsed": false
   },
   "outputs": [
    {
     "data": {
      "text/html": [
       "<html><script type=\"math/tex; mode=display\">\\newcommand{\\Bold}[1]{\\mathbf{#1}}\\left(\\begin{array}{rrrrrrrrrrrrrrr}\n",
       "1 & a^{2} + 1 & a & a^{3} + a^{2} + a & a^{2} & a^{2} + a + 1 & a^{3} + a + 1 & a^{2} + a + 1 & a + 1 & a^{3} + a^{2} + 1 & a^{2} + a & a^{2} + a & a^{3} + 1 & a^{2} + a + 1 & a^{2} + a \\\\\n",
       "1 & a^{3} + a & a^{3} & a^{3} + 1 & a^{3} + a^{2} & 1 & a^{3} + a^{2} + 1 & a^{2} & a^{3} + a^{2} + a + 1 & a^{3} + a + 1 & 1 & a & a^{3} + a^{2} + a & a^{2} + 1 & a + 1 \\\\\n",
       "0 & a & a^{2} & a^{3} + a & a + 1 & 1 & a^{3} & a^{3} + a^{2} + 1 & a^{2} + 1 & a^{3} + a^{2} + a + 1 & 1 & a^{3} + 1 & a^{3} + a^{2} & a^{3} + a + 1 & a^{3} + a^{2} + a\n",
       "\\end{array}\\right)</script></html>"
      ]
     },
     "execution_count": 10,
     "metadata": {
     },
     "output_type": "execute_result"
    }
   ],
   "source": [
    "H = T*Y*Z\n",
    "show(H)"
   ]
  },
  {
   "cell_type": "markdown",
   "metadata": {
    "collapsed": false
   },
   "source": [
    "---\n",
    "## Algoritmo de Patterson\n",
    "---"
   ]
  },
  {
   "cell_type": "markdown",
   "metadata": {
    "collapsed": false
   },
   "source": [
    "    Algoritmo de Patterson:\n",
    "    \n",
    "    El algoritmo de Patterson es un algoritmo clásico de tiempo polinomial que permite saber si un código es decodificable."
   ]
  },
  {
   "cell_type": "markdown",
   "metadata": {
    "collapsed": false
   },
   "source": [
    "### Funciones auxiliares"
   ]
  },
  {
   "cell_type": "code",
   "execution_count": 11,
   "metadata": {
    "collapsed": false
   },
   "outputs": [
   ],
   "source": [
    "# -------------------\n",
    "# Funcion auxiliar que permite descomponer un polinomio en irreducibles\n",
    "# -------------------\n",
    "def descomponer_polinomio_irreducibles(p):\n",
    "    # El siguiente metodo permite descomponer un polinomio p en factores irreducibles p(z) = p0 (z) + z p1 (z)\n",
    "    # Entrada: Polinomio p\n",
    "    Phi1 = p.parent()\n",
    "    p0 = Phi1([sqrt(c) for c in p.list()[0::2]])\n",
    "    p1 = Phi1([sqrt(c) for c in p.list()[1::2]])\n",
    "    return (p0,p1)\n",
    "\n",
    "# -------------------\n",
    "# Algoritmo de euclides extendido: Obtener MCD y los s,t que lo generan.\n",
    "# -------------------\n",
    "def algoritmo_euclides_extendido(self, other):\n",
    "    delta = self.degree() #grado de polinomio 1\n",
    "    if other.is_zero(): # si el polinomio introducido es\n",
    "        ring = self.parent() #comprobamos el cuerpo en el que trabajamos\n",
    "        return self, R.one(), R.zero() #mcd = mismo polinomio y devuelve un uno (s) y un cero (t) en el cuerpo que trabajamos.\n",
    "\n",
    "    # mcd (a,b) = as+bt\n",
    "\n",
    "    ring = self.parent() #comprobamos el cuerpo en el que trabajamos\n",
    "    a = self # guardamos una copia del primer polinomio 1 (self)\n",
    "    b = other # guardamos una copia del segundo polinomio (other)\n",
    "\n",
    "    s = ring.one() # guardamos en s el uno del anillo\n",
    "    t = ring.zero() # guardamos en t el cero del anillo\n",
    "\n",
    "    resto0 = a\n",
    "    resto1 = b\n",
    "\n",
    "    while true:\n",
    "        cociente,resto_auxiliar = resto0.quo_rem(resto1) # La funcion quo_rem de Sage devuelve el cociente y el resto. Que guardamos en Q y ring.\n",
    "        resto0 = resto1\n",
    "        resto1 = resto_auxiliar\n",
    "\n",
    "        s = t\n",
    "        t = s - t*cociente\n",
    "\n",
    "        if resto1.degree() <= floor((delta-1)/2) and resto0.degree() <= floor((delta)/2):\n",
    "             break\n",
    "\n",
    "    V = (resto0-a*s)//b\n",
    "    coeficiente_lider = resto0.leading_coefficient() # guardamos el coeficiente lider del resto 0\n",
    "\n",
    "    return resto0/coeficiente_lider, s/coeficiente_lider, V/coeficiente_lider\n",
    "\n",
    "# -------------------\n",
    "# Funcion que calcula la inversa de un polinomio utilizando el algoritmo de euclides de Sage\n",
    "# -------------------\n",
    "def inversa_g(p,g):\n",
    "    (d,u,v) = xgcd(p,g)\n",
    "    return u.mod(g)"
   ]
  },
  {
   "cell_type": "markdown",
   "metadata": {
    "collapsed": false
   },
   "source": [
    "#### Algoritmo Patterson"
   ]
  },
  {
   "cell_type": "code",
   "execution_count": 12,
   "metadata": {
    "collapsed": false
   },
   "outputs": [
   ],
   "source": [
    "# -------------------\n",
    "# Funcion de decodificacion de Patterson\n",
    "# -------------------\n",
    "def decodePatterson(y):\n",
    "    # Calculamos primero el vector alpha con los elementos primitivos.\n",
    "    alpha = vector(H*y)\n",
    "\n",
    "    # Consideramos nuestras matrices T,Y,Z definidas así como nuestro polinomio irreducible g\n",
    "\n",
    "    polinomioS = PR(0) # Inicializa como el polinomio 0 del anillo\n",
    "    for i in range(len(alpha)):\n",
    "        polinomioS = polinomioS + alpha[i]*(X^(len(alpha)-i-1)) # Lo vamos rellenando con los alpha\n",
    "\n",
    "    vector_g = descomponer_polinomio_irreducibles(g) # Guardamos en vector_g el par de polinomios irreducibles\n",
    "    w = ((vector_g[0])*inversa_g(vector_g[1],g)).mod(g)\n",
    "    vector_t = descomponer_polinomio_irreducibles(inversa_g(polinomioS,g) + X)\n",
    "\n",
    "    R = (vector_t[0]+(w)*(vector_t[1])).mod(g)\n",
    "\n",
    "    (a11,b11,c11) = algoritmo_euclides_extendido(g,R)\n",
    "\n",
    "    # Definimos el polinomio sigma\n",
    "    sigma = a11^2+X*(c11^2)\n",
    "\n",
    "    # Vamos comprobando uno a uno los coeficientes de sigma\n",
    "    # para asi determinar el conjunto de posiciones de error E - {i tal que e_i es distinto de 0}\n",
    "    for i in range(N):\n",
    "        if (sigma(a^i)==0): # error encontrado\n",
    "            print (\"Error encontrado en la posición: \" + str(i))\n",
    "            y[i] = y[i] + 1\n",
    "    return y"
   ]
  },
  {
   "cell_type": "code",
   "execution_count": 13,
   "metadata": {
    "collapsed": false
   },
   "outputs": [
    {
     "name": "stdout",
     "output_type": "stream",
     "text": [
      "Matriz de control de paridad H para nuestro código\n"
     ]
    },
    {
     "data": {
      "text/html": [
       "<html><script type=\"math/tex; mode=display\">\\newcommand{\\Bold}[1]{\\mathbf{#1}}\\left(\\begin{array}{rrrrrrrrrrrrrrr}\n",
       "0 & 0 & 0 & 1 & 0 & 0 & 1 & 0 & 0 & 1 & 0 & 0 & 1 & 0 & 0 \\\\\n",
       "0 & 1 & 0 & 1 & 1 & 1 & 0 & 1 & 0 & 1 & 1 & 1 & 0 & 1 & 1 \\\\\n",
       "0 & 0 & 1 & 1 & 0 & 1 & 1 & 1 & 1 & 0 & 1 & 1 & 0 & 1 & 1 \\\\\n",
       "1 & 1 & 0 & 0 & 0 & 1 & 1 & 1 & 1 & 1 & 0 & 0 & 1 & 1 & 0 \\\\\n",
       "0 & 1 & 1 & 1 & 1 & 0 & 1 & 0 & 1 & 1 & 0 & 0 & 1 & 0 & 0 \\\\\n",
       "0 & 0 & 0 & 0 & 1 & 0 & 1 & 1 & 1 & 0 & 0 & 0 & 1 & 1 & 0 \\\\\n",
       "0 & 1 & 0 & 0 & 0 & 0 & 0 & 0 & 1 & 1 & 0 & 1 & 1 & 0 & 1 \\\\\n",
       "1 & 0 & 0 & 1 & 0 & 1 & 1 & 0 & 1 & 1 & 1 & 0 & 0 & 1 & 1 \\\\\n",
       "0 & 0 & 0 & 1 & 0 & 0 & 1 & 1 & 0 & 1 & 0 & 1 & 1 & 1 & 1 \\\\\n",
       "0 & 0 & 1 & 0 & 0 & 0 & 0 & 1 & 1 & 1 & 0 & 0 & 1 & 0 & 1 \\\\\n",
       "0 & 1 & 0 & 1 & 1 & 0 & 0 & 0 & 0 & 1 & 0 & 0 & 0 & 1 & 1 \\\\\n",
       "0 & 0 & 0 & 0 & 1 & 1 & 0 & 1 & 1 & 1 & 1 & 1 & 0 & 1 & 0\n",
       "\\end{array}\\right)</script></html>"
      ]
     },
     "execution_count": 13,
     "metadata": {
     },
     "output_type": "execute_result"
    },
    {
     "name": "stdout",
     "output_type": "stream",
     "text": [
      "Matriz generadora G para nuestro código\n"
     ]
    },
    {
     "data": {
      "text/html": [
       "<html><script type=\"math/tex; mode=display\">\\newcommand{\\Bold}[1]{\\mathbf{#1}}\\left(\\begin{array}{rrrrrrrrrrrrrrr}\n",
       "1 & 0 & 0 & 1 & 0 & 0 & 1 & 1 & 0 & 1 & 0 & 1 & 1 & 1 & 1 \\\\\n",
       "0 & 1 & 0 & 0 & 1 & 1 & 1 & 0 & 0 & 1 & 0 & 1 & 0 & 0 & 1 \\\\\n",
       "0 & 0 & 1 & 1 & 0 & 0 & 0 & 1 & 1 & 0 & 1 & 0 & 1 & 1 & 0\n",
       "\\end{array}\\right)</script></html>"
      ]
     },
     "execution_count": 13,
     "metadata": {
     },
     "output_type": "execute_result"
    }
   ],
   "source": [
    "# Definimos nuestra matriz de control de paridad H de tamaño correcto (nula en estos momentos)\n",
    "H_Goppa_K = matrix(K, m*H.nrows(), H.ncols())\n",
    "\n",
    "# Y la rellenamos correctamente\n",
    "for i in range (H.nrows()):\n",
    "    for j in range(H.ncols()):\n",
    "        be = bin(eval(H[i,j]._int_repr()))[2:]\n",
    "        be = '0'*(m-len(be))+be; be = list(be)\n",
    "        H_Goppa_K[m*i:m*(i+1),j]=vector(map(int,be))\n",
    "\n",
    "print (\"Matriz de control de paridad H para nuestro código\") ; show(H_Goppa_K)\n",
    "\n",
    "# Tenemos la matriz H del código Goppa, vamos a calcular la matriz G que será de dimensión (k x n)\n",
    "# Para calcularla usamos GH^{T} = 0\n",
    "inversa_H_Goppa_K = H_Goppa_K.right_kernel();\n",
    "\n",
    "# Y usamos la funcion basis_matrix() que nos permite quedarnos con la matriz G.\n",
    "G_Goppa = inversa_H_Goppa_K.basis_matrix();\n",
    "\n",
    "print (\"Matriz generadora G para nuestro código\") ; show(G_Goppa)"
   ]
  },
  {
   "cell_type": "markdown",
   "metadata": {
    "collapsed": false
   },
   "source": [
    "### Caso de prueba"
   ]
  },
  {
   "cell_type": "code",
   "execution_count": 14,
   "metadata": {
    "collapsed": false
   },
   "outputs": [
    {
     "name": "stdout",
     "output_type": "stream",
     "text": [
      "Vector para codificar: \n"
     ]
    },
    {
     "data": {
      "text/html": [
       "<html><script type=\"math/tex; mode=display\">\\newcommand{\\Bold}[1]{\\mathbf{#1}}\\left(1,\\,1,\\,1\\right)</script></html>"
      ]
     },
     "execution_count": 14,
     "metadata": {
     },
     "output_type": "execute_result"
    },
    {
     "name": "stdout",
     "output_type": "stream",
     "text": [
      "Vector codificado: \n"
     ]
    },
    {
     "data": {
      "text/html": [
       "<html><script type=\"math/tex; mode=display\">\\newcommand{\\Bold}[1]{\\mathbf{#1}}\\left(1,\\,1,\\,1,\\,0,\\,1,\\,1,\\,0,\\,0,\\,1,\\,0,\\,1,\\,0,\\,0,\\,0,\\,0\\right)</script></html>"
      ]
     },
     "execution_count": 14,
     "metadata": {
     },
     "output_type": "execute_result"
    },
    {
     "name": "stdout",
     "output_type": "stream",
     "text": [
      "Vector e de errores:\n"
     ]
    },
    {
     "data": {
      "text/html": [
       "<html><script type=\"math/tex; mode=display\">\\newcommand{\\Bold}[1]{\\mathbf{#1}}\\left(0,\\,0,\\,1,\\,1,\\,0,\\,0,\\,0,\\,0,\\,0,\\,0,\\,0,\\,0,\\,0,\\,0,\\,0\\right)</script></html>"
      ]
     },
     "execution_count": 14,
     "metadata": {
     },
     "output_type": "execute_result"
    },
    {
     "name": "stdout",
     "output_type": "stream",
     "text": [
      "Vector c con errores e\n"
     ]
    },
    {
     "data": {
      "text/html": [
       "<html><script type=\"math/tex; mode=display\">\\newcommand{\\Bold}[1]{\\mathbf{#1}}\\left(1,\\,1,\\,0,\\,1,\\,1,\\,1,\\,0,\\,0,\\,1,\\,0,\\,1,\\,0,\\,0,\\,0,\\,0\\right)</script></html>"
      ]
     },
     "execution_count": 14,
     "metadata": {
     },
     "output_type": "execute_result"
    }
   ],
   "source": [
    "## Vector sin codificar aleatorio\n",
    "u = vector(K,[randint(0,1) for n in range(G_Goppa.nrows())])\n",
    "print (\"Vector para codificar: \") ; show(u)\n",
    "\n",
    "## Vector codificado\n",
    "c = u*G_Goppa\n",
    "print (\"Vector codificado: \") ; show(c)\n",
    "\n",
    "\n",
    "# Añadimos un vector c con errores en las posiciones 2 y 3\n",
    "e = vector(K,N)\n",
    "e[2] = 1\n",
    "e[3] = 1\n",
    "print (\"Vector e de errores:\") ; show(e)\n",
    "\n",
    "# Lo añadimos al vector que habíamos considerado\n",
    "y = c + e\n",
    "print (\"Vector c con errores e\") ; show(y)\n"
   ]
  },
  {
   "cell_type": "code",
   "execution_count": 15,
   "metadata": {
    "collapsed": false
   },
   "outputs": [
    {
     "name": "stdout",
     "output_type": "stream",
     "text": [
      "Error encontrado en la posición: 2\n",
      "Error encontrado en la posición: 3\n"
     ]
    },
    {
     "data": {
      "text/plain": [
       "(1, 1, 1, 0, 1, 1, 0, 0, 1, 0, 1, 0, 0, 0, 0)"
      ]
     },
     "execution_count": 15,
     "metadata": {
     },
     "output_type": "execute_result"
    }
   ],
   "source": [
    "decodePatterson(y)"
   ]
  },
  {
   "cell_type": "code",
   "execution_count": 0,
   "metadata": {
    "collapsed": false
   },
   "outputs": [
   ],
   "source": [
   ]
  }
 ],
 "metadata": {
  "kernelspec": {
   "display_name": "SageMath 7.6",
   "name": "sage-7.6"
  },
  "language_info": {
   "codemirror_mode": {
    "name": "ipython",
    "version": 2
   },
   "file_extension": ".py",
   "mimetype": "text/x-python",
   "name": "python",
   "nbconvert_exporter": "python",
   "pygments_lexer": "ipython2",
   "version": "2.7.13"
  }
 },
 "nbformat": 4,
 "nbformat_minor": 0
}