{
 "cells": [
  {
   "cell_type": "markdown",
   "metadata": {
    "collapsed": false
   },
   "source": [
    "# Distancia de Hamming\n",
    "---"
   ]
  },
  {
   "cell_type": "markdown",
   "metadata": {
    "collapsed": false
   },
   "source": [
    "## Definición\n",
    "\n",
    "---\n",
    "\n",
    "Dados dos elementos x,y ∈ An, llamamos distancia de Hamming entre x e y al numero de coordenadas distintas que poseen"
   ]
  },
  {
   "cell_type": "code",
   "execution_count": 41,
   "metadata": {
    "collapsed": false
   },
   "outputs": [
   ],
   "source": [
    "# Vamos a definir la distancia de Hamming\n",
    "# Para ello definimos primero lo que significa distancia entre dos palabras o elementos\n",
    "def dv(x,y):\n",
    "    distancia = 0\n",
    "    for i in range(len(x)):\n",
    "        if x[i] != y[i]:\n",
    "            distancia = distancia + 1\n",
    "    return distancia"
   ]
  },
  {
   "cell_type": "code",
   "execution_count": 42,
   "metadata": {
    "collapsed": false
   },
   "outputs": [
   ],
   "source": [
    "# También podemos definir la distancia entre los elementos de un código C.\n",
    "# Esta versión no aprovecha que la distancia es simétrica\n",
    "def dc(C):\n",
    "    distancias = set([dv(x,y) for x in C for y in C if x!=y])\n",
    "    return min(distancias)"
   ]
  },
  {
   "cell_type": "code",
   "execution_count": 43,
   "metadata": {
    "collapsed": false
   },
   "outputs": [
   ],
   "source": [
    "# La siguiente versión aprovecha que la distancia es simétrica\n",
    "def dc_simetrica(C):\n",
    "    distancia_minima = oo\n",
    "    for i in range(len(C)):\n",
    "        for j in range(i+1,len(C)):\n",
    "            distancia = dv(C[i],C[j])\n",
    "            if dv(C[i],C[j])<distancia_minima:\n",
    "                distancia_minima=distancia\n",
    "    return(distancia_minima)"
   ]
  },
  {
   "cell_type": "markdown",
   "metadata": {
    "collapsed": false
   },
   "source": [
    "#### Ejemplo 3.3 Códigos correctores. Distancia mínima de Hamming"
   ]
  },
  {
   "cell_type": "code",
   "execution_count": 44,
   "metadata": {
    "collapsed": false
   },
   "outputs": [
   ],
   "source": [
    "a = vector([0,0,0])\n",
    "b = vector([1,1,1])\n",
    "C3 = (a,b)"
   ]
  },
  {
   "cell_type": "code",
   "execution_count": 45,
   "metadata": {
    "collapsed": false
   },
   "outputs": [
    {
     "name": "stdout",
     "output_type": "stream",
     "text": [
      "3\n"
     ]
    }
   ],
   "source": [
    "print(dv(a,b))"
   ]
  },
  {
   "cell_type": "markdown",
   "metadata": {
    "collapsed": false
   },
   "source": [
    "#### Ejemplo 3.4 Códigos correctores. Distancia mínima de Hamming"
   ]
  },
  {
   "cell_type": "code",
   "execution_count": 46,
   "metadata": {
    "collapsed": false
   },
   "outputs": [
    {
     "data": {
      "text/plain": [
       "2"
      ]
     },
     "execution_count": 46,
     "metadata": {
     },
     "output_type": "execute_result"
    }
   ],
   "source": [
    "dv(vector([0,0,0]),vector([0,1,1]))"
   ]
  },
  {
   "cell_type": "code",
   "execution_count": 47,
   "metadata": {
    "collapsed": false,
    "scrolled": true
   },
   "outputs": [
    {
     "name": "stdout",
     "output_type": "stream",
     "text": [
      "2\n"
     ]
    }
   ],
   "source": [
    "# Definimos el código C\n",
    "C0 = (vector([0,0,0]),vector([0,1,1]),vector([1,0,1]),vector([1,1,0]))\n",
    "print(dc_simetrica(C0))"
   ]
  },
  {
   "cell_type": "markdown",
   "metadata": {
    "collapsed": false
   },
   "source": [
    "No tengo claro que `dc` calcule la distancia mínima"
   ]
  },
  {
   "cell_type": "code",
   "execution_count": 48,
   "metadata": {
    "collapsed": false
   },
   "outputs": [
    {
     "name": "stdout",
     "output_type": "stream",
     "text": [
      "1\n"
     ]
    }
   ],
   "source": [
    "C1 = (vector([0,0,0]),vector([0,1,1]),vector([1,0,1]),vector([1,1,0]),vector([1,1,1]),vector([0,0,1]))\n",
    "print(dc_simetrica(C1))"
   ]
  },
  {
   "cell_type": "code",
   "execution_count": 49,
   "metadata": {
    "collapsed": false
   },
   "outputs": [
    {
     "name": "stdout",
     "output_type": "stream",
     "text": [
      "1\n"
     ]
    }
   ],
   "source": [
    "C2 = (vector([0,0,0]),vector([0,1,1]),vector([1,0,1]),vector([1,1,0]),vector([1,1,1]))\n",
    "print(dc_simetrica(C2))"
   ]
  },
  {
   "cell_type": "markdown",
   "metadata": {
    "collapsed": false
   },
   "source": [
    "#### Ejemplo 3.5 Códigos correctores. Distancia mínima de Hamming\n",
    "##### Proposición 3.2"
   ]
  },
  {
   "cell_type": "code",
   "execution_count": 50,
   "metadata": {
    "collapsed": false
   },
   "outputs": [
    {
     "name": "stdout",
     "output_type": "stream",
     "text": [
      "El código C3 definido podrá detectar un máximo de 2 errores.\n",
      "El código C0 definido podrá detectar un máximo de 1 errores.\n"
     ]
    }
   ],
   "source": [
    "# Numero de errores (k) capaz de detectar nuestro código\n",
    "k3 = dc(C3)-1\n",
    "k0 = dc(C0)-1\n",
    "print(\"El código C3 definido podrá detectar un máximo de \" + str(k3) + \" errores.\")\n",
    "print(\"El código C0 definido podrá detectar un máximo de \" + str(k0) + \" errores.\")"
   ]
  },
  {
   "cell_type": "code",
   "execution_count": 0,
   "metadata": {
    "collapsed": false
   },
   "outputs": [
   ],
   "source": [
   ]
  }
 ],
 "metadata": {
  "kernelspec": {
   "display_name": "SageMath 7.6",
   "name": "sage-7.6"
  },
  "language_info": {
   "codemirror_mode": {
    "name": "ipython",
    "version": 2
   },
   "file_extension": ".py",
   "mimetype": "text/x-python",
   "name": "python",
   "nbconvert_exporter": "python",
   "pygments_lexer": "ipython2",
   "version": "2.7.13"
  }
 },
 "nbformat": 4,
 "nbformat_minor": 0
}