{
 "cells": [
  {
   "cell_type": "markdown",
   "metadata": {
    "collapsed": false
   },
   "source": [
    "---\n",
    "## Algoritmo de McEliece\n",
    "---"
   ]
  },
  {
   "cell_type": "code",
   "execution_count": 1,
   "metadata": {
    "collapsed": false
   },
   "outputs": [
   ],
   "source": [
    "# Definimos el cuerpo donde vamos a trabajar\n",
    "m = 4;rango = 3;N = 2^m\n",
    "K_.<a> = GF(2)\n",
    "F.<a> = GF(2^m) #creado el campo donde \"vivirá\" el código"
   ]
  },
  {
   "cell_type": "code",
   "execution_count": 2,
   "metadata": {
    "collapsed": false
   },
   "outputs": [
   ],
   "source": [
    "# Creamos el anillo de polinomios\n",
    "PR = PolynomialRing(F,'X')\n",
    "X = PR.gen()\n",
    "g = X^3+X+1                     # Polinomio de Goppa\n",
    "L = [a^i for i in range(N)]     # Soporte del codigo"
   ]
  },
  {
   "cell_type": "code",
   "execution_count": 3,
   "metadata": {
    "collapsed": false
   },
   "outputs": [
   ],
   "source": [
    "# -------------------\n",
    "# Funcion auxiliar que permite descomponer un polinomio en irreducibles\n",
    "# -------------------\n",
    "def descomponer_polinomio_irreducibles(p):\n",
    "    # El siguiente metodo permite descomponer un polinomio p en factores irreducibles p(z) = p0 (z) + z p1 (z)\n",
    "    # Entrada: Polinomio p\n",
    "    Phi1 = p.parent()\n",
    "    p0 = Phi1([sqrt(c) for c in p.list()[0::2]])\n",
    "    p1 = Phi1([sqrt(c) for c in p.list()[1::2]])\n",
    "    return (p0,p1)\n",
    "\n",
    "# -------------------\n",
    "# Algoritmo de euclides extendido: Obtener MCD y los s,t que lo generan.\n",
    "# -------------------\n",
    "def algoritmo_euclides_extendido(self, other):\n",
    "    delta = self.degree() #grado de polinomio 1\n",
    "    if other.is_zero(): # si el polinomio introducido es\n",
    "        ring = self.parent() #comprobamos el cuerpo en el que trabajamos\n",
    "        return self, R.one(), R.zero() #mcd = mismo polinomio y devuelve un uno (s) y un cero (t) en el cuerpo que trabajamos.\n",
    "\n",
    "    # mcd (a,b) = as+bt\n",
    "\n",
    "    ring = self.parent() #comprobamos el cuerpo en el que trabajamos\n",
    "    a = self # guardamos una copia del primer polinomio 1 (self)\n",
    "    b = other # guardamos una copia del segundo polinomio (other)\n",
    "\n",
    "    s = ring.one() # guardamos en s el uno del anillo\n",
    "    t = ring.zero() # guardamos en t el cero del anillo\n",
    "\n",
    "    resto0 = a\n",
    "    resto1 = b\n",
    "\n",
    "    while true:\n",
    "        cociente,resto_auxiliar = resto0.quo_rem(resto1) # La funcion quo_rem de Sage devuelve el cociente y el resto. Que guardamos en Q y ring.\n",
    "        resto0 = resto1\n",
    "        resto1 = resto_auxiliar\n",
    "\n",
    "        s = t\n",
    "        t = s - t*cociente\n",
    "\n",
    "        if resto1.degree() <= floor((delta-1)/2) and resto0.degree() <= floor((delta)/2):\n",
    "             break\n",
    "\n",
    "    V = (resto0-a*s)//b\n",
    "    coeficiente_lider = resto0.leading_coefficient() # guardamos el coeficiente lider del resto 0\n",
    "\n",
    "    return resto0/coeficiente_lider, s/coeficiente_lider, V/coeficiente_lider\n",
    "\n",
    "# -------------------\n",
    "# Funcion que calcula la inversa de un polinomio utilizando el algoritmo de euclides de Sage\n",
    "# -------------------\n",
    "def inversa_g(p,g):\n",
    "    (d,u,v) = xgcd(p,g)\n",
    "    return u.mod(g)\n",
    "\n",
    "# -------------------\n",
    "# Funcion de decodificacion de Patterson\n",
    "# -------------------\n",
    "def decodePatterson(y):\n",
    "    # Calculamos primero el vector alpha con los elementos primitivos.\n",
    "    alpha = vector(H*y)\n",
    "\n",
    "    # Consideramos nuestras matrices T,Y,Z definidas así como nuestro polinomio irreducible g\n",
    "\n",
    "    polinomioS = PR(0) # Inicializa como el polinomio 0 del anillo\n",
    "    for i in range(len(alpha)):\n",
    "        polinomioS = polinomioS + alpha[i]*(X^(len(alpha)-i-1)) # Lo vamos rellenando con los alpha\n",
    "\n",
    "    vector_g = descomponer_polinomio_irreducibles(g) # Guardamos en vector_g el par de polinomios irreducibles\n",
    "    w = ((vector_g[0])*inversa_g(vector_g[1],g)).mod(g)\n",
    "    vector_t = descomponer_polinomio_irreducibles(inversa_g(polinomioS,g) + X)\n",
    "\n",
    "    R = (vector_t[0]+(w)*(vector_t[1])).mod(g)\n",
    "\n",
    "    (a11,b11,c11) = algoritmo_euclides_extendido(g,R)\n",
    "\n",
    "    # Definimos el polinomio sigma\n",
    "    sigma = a11^2+X*(c11^2)\n",
    "\n",
    "    # Vamos comprobando uno a uno los coeficientes de sigma\n",
    "    # para asi determinar el conjunto de posiciones de error E - {i tal que e_i es distinto de 0}\n",
    "    for i in range(N):\n",
    "        if (sigma(a^i)==0): # an error occured\n",
    "            print (\"Error encontrado en la posición: \" + str(i))\n",
    "            y[i] = y[i] + 1\n",
    "    return y"
   ]
  },
  {
   "cell_type": "code",
   "execution_count": 4,
   "metadata": {
    "collapsed": false
   },
   "outputs": [
   ],
   "source": [
    "T = matrix(F,rango,rango)\n",
    "for i in range(rango):\n",
    "    count = rango - i\n",
    "    for j in range(rango):\n",
    "        if i > j:\n",
    "            T[i,j]=g.list()[count]\n",
    "            count = count + 1\n",
    "        if i < j:\n",
    "            T[i,j] = 0\n",
    "        if i == j:\n",
    "            T[i,j] = 1"
   ]
  },
  {
   "cell_type": "code",
   "execution_count": 5,
   "metadata": {
    "collapsed": false
   },
   "outputs": [
    {
     "name": "stdout",
     "output_type": "stream",
     "text": [
      "Matriz T: \n"
     ]
    },
    {
     "data": {
      "text/html": [
       "<html><script type=\"math/tex; mode=display\">\\newcommand{\\Bold}[1]{\\mathbf{#1}}\\left(\\begin{array}{rrr}\n",
       "1 & 0 & 0 \\\\\n",
       "0 & 1 & 0 \\\\\n",
       "1 & 0 & 1\n",
       "\\end{array}\\right)</script></html>"
      ]
     },
     "execution_count": 5,
     "metadata": {
     },
     "output_type": "execute_result"
    }
   ],
   "source": [
    "print (\"Matriz T: \")\n",
    "show(T)"
   ]
  },
  {
   "cell_type": "code",
   "execution_count": 6,
   "metadata": {
    "collapsed": false
   },
   "outputs": [
    {
     "data": {
      "text/html": [
       "<html><script type=\"math/tex; mode=display\">\\newcommand{\\Bold}[1]{\\mathbf{#1}}\\left(\\begin{array}{rrrrrrrrrrrrrrrr}\n",
       "0 & 0 & 0 & 1 & 0 & 0 & 1 & 0 & 0 & 1 & 0 & 0 & 1 & 0 & 0 & 0 \\\\\n",
       "0 & 1 & 0 & 1 & 1 & 1 & 0 & 1 & 0 & 1 & 1 & 1 & 0 & 1 & 1 & 0 \\\\\n",
       "0 & 0 & 1 & 1 & 0 & 1 & 1 & 1 & 1 & 0 & 1 & 1 & 0 & 1 & 1 & 0 \\\\\n",
       "1 & 1 & 0 & 0 & 0 & 1 & 1 & 1 & 1 & 1 & 0 & 0 & 1 & 1 & 0 & 1 \\\\\n",
       "0 & 1 & 1 & 1 & 1 & 0 & 1 & 0 & 1 & 1 & 0 & 0 & 1 & 0 & 0 & 0 \\\\\n",
       "0 & 0 & 0 & 0 & 1 & 0 & 1 & 1 & 1 & 0 & 0 & 0 & 1 & 1 & 0 & 0 \\\\\n",
       "0 & 1 & 0 & 0 & 0 & 0 & 0 & 0 & 1 & 1 & 0 & 1 & 1 & 0 & 1 & 0 \\\\\n",
       "1 & 0 & 0 & 1 & 0 & 1 & 1 & 0 & 1 & 1 & 1 & 0 & 0 & 1 & 1 & 1 \\\\\n",
       "0 & 0 & 0 & 1 & 0 & 0 & 1 & 1 & 0 & 1 & 0 & 1 & 1 & 1 & 1 & 0 \\\\\n",
       "0 & 0 & 1 & 0 & 0 & 0 & 0 & 1 & 1 & 1 & 0 & 0 & 1 & 0 & 1 & 0 \\\\\n",
       "0 & 1 & 0 & 1 & 1 & 0 & 0 & 0 & 0 & 1 & 0 & 0 & 0 & 1 & 1 & 0 \\\\\n",
       "0 & 0 & 0 & 0 & 1 & 1 & 0 & 1 & 1 & 1 & 1 & 1 & 0 & 1 & 0 & 0\n",
       "\\end{array}\\right)</script></html>"
      ]
     },
     "execution_count": 6,
     "metadata": {
     },
     "output_type": "execute_result"
    }
   ],
   "source": [
    "V = matrix([[L[j]^i for j in range(N)] for i in range(rango)])\n",
    "D = diagonal_matrix([1/g(L[i]) for i in range(N)])\n",
    "H = T*V*D\n",
    "H_Goppa_K = matrix(K_, m*H.nrows(),H.ncols())\n",
    "for i in range(H.nrows()):\n",
    "    for j in range(H.ncols()):\n",
    "        be = bin(eval(H[i,j]._int_repr()))[2:];\n",
    "        be = '0'*(m-len(be))+be; be = list(be);\n",
    "        H_Goppa_K[m*i:m*(i+1),j]=vector(map(int,be));\n",
    "show(H_Goppa_K)"
   ]
  },
  {
   "cell_type": "code",
   "execution_count": 7,
   "metadata": {
    "collapsed": false
   },
   "outputs": [
    {
     "data": {
      "text/html": [
       "<html><script type=\"math/tex; mode=display\">\\newcommand{\\Bold}[1]{\\mathbf{#1}}\\left(\\begin{array}{rrrrrrrrrrrrrrrr}\n",
       "1 & 1 & 0 & 1 & 0 & 0 & 0 & 1 & 1 & 0 & 0 & 1 & 1 & 0 & 1 & 0 \\\\\n",
       "0 & 0 & 1 & 0 & 1 & 1 & 0 & 0 & 0 & 1 & 1 & 1 & 0 & 1 & 0 & 1 \\\\\n",
       "0 & 0 & 0 & 1 & 0 & 1 & 1 & 0 & 1 & 0 & 1 & 0 & 1 & 1 & 1 & 1 \\\\\n",
       "1 & 1 & 0 & 1 & 0 & 0 & 1 & 1 & 1 & 0 & 0 & 0 & 1 & 0 & 1 & 0\n",
       "\\end{array}\\right)</script></html>"
      ]
     },
     "execution_count": 7,
     "metadata": {
     },
     "output_type": "execute_result"
    }
   ],
   "source": [
    "Krnl = H_Goppa_K.right_kernel();\n",
    "G = Krnl.basis_matrix();\n",
    "S = random_matrix(GF(2), N-m*rango)\n",
    "\n",
    "while (S.determinant()==0):\n",
    "    S = random_matrix(GF(2), N-m*rango)\n",
    "\n",
    "rng = range(N)\n",
    "\n",
    "P = matrix(GF(2),N);\n",
    "\n",
    "for i in range(N):\n",
    "    p = floor(len(rng)*random());\n",
    "    P[i,rng[p]]=1; rng=rng[:p]+rng[p+1:];\n",
    "\n",
    "G_prima = S*G*P\n",
    "show(G_prima)"
   ]
  },
  {
   "cell_type": "markdown",
   "metadata": {
    "collapsed": false
   },
   "source": [
    "### --> Algoritmo de cifrado\n",
    "---\n",
    "\n",
    "** Algoritmo de cifrado **\n",
    "\n",
    "    1. Bob cifra el mensaje m como una cadena binaria de tamaño n-m*delta;\n",
    "    2. Bob calcula el vector c' = mG';\n",
    "    3. Bob genera un vector de tamaño n randomico conteniendo hasta delta unos \n",
    "    4. Bob calcula el texto cifrado como c = c' + z."
   ]
  },
  {
   "cell_type": "code",
   "execution_count": 8,
   "metadata": {
    "collapsed": false
   },
   "outputs": [
    {
     "name": "stdout",
     "output_type": "stream",
     "text": [
      "Vector u\n"
     ]
    },
    {
     "data": {
      "text/html": [
       "<html><script type=\"math/tex; mode=display\">\\newcommand{\\Bold}[1]{\\mathbf{#1}}\\left(0,\\,1,\\,0,\\,1\\right)</script></html>"
      ]
     },
     "execution_count": 8,
     "metadata": {
     },
     "output_type": "execute_result"
    },
    {
     "name": "stdout",
     "output_type": "stream",
     "text": [
      "Vector c\n"
     ]
    },
    {
     "data": {
      "text/html": [
       "<html><script type=\"math/tex; mode=display\">\\newcommand{\\Bold}[1]{\\mathbf{#1}}\\left(1,\\,1,\\,1,\\,1,\\,1,\\,1,\\,1,\\,1,\\,1,\\,1,\\,1,\\,1,\\,1,\\,1,\\,1,\\,1\\right)</script></html>"
      ]
     },
     "execution_count": 8,
     "metadata": {
     },
     "output_type": "execute_result"
    },
    {
     "name": "stdout",
     "output_type": "stream",
     "text": [
      "Vector de errores e\n"
     ]
    },
    {
     "data": {
      "text/html": [
       "<html><script type=\"math/tex; mode=display\">\\newcommand{\\Bold}[1]{\\mathbf{#1}}\\left(0,\\,0,\\,0,\\,0,\\,0,\\,0,\\,0,\\,0,\\,1,\\,1,\\,0,\\,0,\\,0,\\,0,\\,0,\\,0\\right)</script></html>"
      ]
     },
     "execution_count": 8,
     "metadata": {
     },
     "output_type": "execute_result"
    },
    {
     "name": "stdout",
     "output_type": "stream",
     "text": [
      "Vector codificado y\n"
     ]
    },
    {
     "data": {
      "text/html": [
       "<html><script type=\"math/tex; mode=display\">\\newcommand{\\Bold}[1]{\\mathbf{#1}}\\left(1,\\,1,\\,1,\\,1,\\,1,\\,1,\\,1,\\,1,\\,0,\\,0,\\,1,\\,1,\\,1,\\,1,\\,1,\\,1\\right)</script></html>"
      ]
     },
     "execution_count": 8,
     "metadata": {
     },
     "output_type": "execute_result"
    }
   ],
   "source": [
    "u = vector(K_,[randint(0,1) for _ in range(G_prima.nrows())])\n",
    "c = u*G_prima\n",
    "print 'Vector u' ; show(u)\n",
    "print 'Vector c' ; show(c)\n",
    "e = vector(K_,N)\n",
    "e[8] = 1\n",
    "e[9] = 1\n",
    "print 'Vector de errores e' ; show(e)\n",
    "y = c + e\n",
    "print \"Vector codificado y\" ; show(y)"
   ]
  },
  {
   "cell_type": "markdown",
   "metadata": {
    "collapsed": false
   },
   "source": [
    "### --> Algoritmo de descifrado\n",
    "---\n",
    "\n",
    "** Algoritmo de descifrado **\n",
    "\n",
    "    1. Alice calcula el inverso de P\n",
    "    2. Alice calcula cP^{-1}\n",
    "    3. Alice usa un algoritmo de decodificación para el código G y decodifica c en m'\n",
    "    4. Alice calcula m'S"
   ]
  },
  {
   "cell_type": "code",
   "execution_count": 9,
   "metadata": {
    "collapsed": false
   },
   "outputs": [
    {
     "name": "stdout",
     "output_type": "stream",
     "text": [
      "Error encontrado en la posición: 1\n",
      "Error encontrado en la posición: 14\n"
     ]
    },
    {
     "data": {
      "text/html": [
       "<html><script type=\"math/tex; mode=display\">\\newcommand{\\Bold}[1]{\\mathbf{#1}}\\left(0,\\,1,\\,0,\\,1\\right)</script></html>"
      ]
     },
     "execution_count": 9,
     "metadata": {
     },
     "output_type": "execute_result"
    }
   ],
   "source": [
    "yP = y*(P.inverse())\n",
    "yd = decodePatterson(yP)\n",
    "corregido = (G.transpose()\\yd)*S.inverse()\n",
    "show(corregido)"
   ]
  }
 ],
 "metadata": {
  "kernelspec": {
   "display_name": "SageMath 7.6",
   "name": "sage-7.6"
  },
  "language_info": {
   "codemirror_mode": {
    "name": "ipython",
    "version": 2
   },
   "file_extension": ".py",
   "mimetype": "text/x-python",
   "name": "python",
   "nbconvert_exporter": "python",
   "pygments_lexer": "ipython2",
   "version": "2.7.13"
  }
 },
 "nbformat": 4,
 "nbformat_minor": 0
}